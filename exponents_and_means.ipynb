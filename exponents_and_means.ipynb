{
 "cells": [
  {
   "cell_type": "markdown",
   "metadata": {},
   "source": [
    "__Purpose: To loop through files on AWS, convert to pandas data frames, Add a column, compute the exponentials, and then average the exponentials of the same numbered rows across files__"
   ]
  },
  {
   "cell_type": "markdown",
   "metadata": {},
   "source": [
    "*Step 1: Import Necessary Packages*"
   ]
  },
  {
   "cell_type": "code",
   "execution_count": 1,
   "metadata": {},
   "outputs": [],
   "source": [
    "import pandas as pd\n",
    "import math"
   ]
  },
  {
   "cell_type": "markdown",
   "metadata": {},
   "source": [
    "*Step 2: User Input Controls/Variables*"
   ]
  },
  {
   "cell_type": "code",
   "execution_count": 11,
   "metadata": {},
   "outputs": [],
   "source": [
    "new_csv_name = 'It_Works'"
   ]
  },
  {
   "cell_type": "markdown",
   "metadata": {},
   "source": [
    "*Step 3: Looping through Files to get their names*"
   ]
  },
  {
   "cell_type": "code",
   "execution_count": 2,
   "metadata": {},
   "outputs": [
    {
     "data": {
      "text/plain": [
       "['geomean_P28_mGluR5_HET_b1_s1_v1.csv',\n",
       " 'geomean_P28_mGluR5_HET_b1_s1_v3.csv',\n",
       " 'geomean_P28_mGluR5_HET_b1_s1_v2.csv']"
      ]
     },
     "execution_count": 2,
     "metadata": {},
     "output_type": "execute_result"
    }
   ],
   "source": [
    "import os\n",
    "filenames = []\n",
    "for filename in os.listdir('/Users/HawleyHelm/Desktop/logtoexppandas'):\n",
    "    if filename.endswith(\".csv\"):\n",
    "        name = str(filename)\n",
    "        filenames.append(name)\n",
    "filenames"
   ]
  },
  {
   "cell_type": "markdown",
   "metadata": {},
   "source": [
    "*Step 4: Looping through those files to add exponents column and save as a new csv*"
   ]
  },
  {
   "cell_type": "code",
   "execution_count": 3,
   "metadata": {},
   "outputs": [],
   "source": [
    "for names in filenames:\n",
    "    df = pd.read_csv(names)\n",
    "    df = df.rename(index=str, columns={\"nan\": \"log\"});\n",
    "    df['exp'] = 0\n",
    "    for rows in range(len(df)):\n",
    "        row = str(rows)\n",
    "        log_value = df['log'].iloc[rows]\n",
    "        exp_value = math.exp(log_value)\n",
    "        df.loc[row,'exp'] = exp_value\n",
    "    new_name = 'exp_' + names\n",
    "    "
   ]
  },
  {
   "cell_type": "markdown",
   "metadata": {},
   "source": [
    "*Step 5: Looping through to get the csv files created above*"
   ]
  },
  {
   "cell_type": "code",
   "execution_count": 4,
   "metadata": {},
   "outputs": [
    {
     "data": {
      "text/plain": [
       "['exp_geomean_P28_mGluR5_HET_b1_s1_v1.csv',\n",
       " 'exp_geomean_P28_mGluR5_HET_b1_s1_v3.csv',\n",
       " 'exp_geomean_P28_mGluR5_HET_b1_s1_v2.csv']"
      ]
     },
     "execution_count": 4,
     "metadata": {},
     "output_type": "execute_result"
    }
   ],
   "source": [
    "averagefiles = []\n",
    "for filename in os.listdir('/Users/HawleyHelm/Desktop/logtoexppandas'):\n",
    "    if filename.endswith(\".csv\") and filename.startswith(\"exp_\"):\n",
    "        name = str(filename)\n",
    "        averagefiles.append(name)\n",
    "averagefiles"
   ]
  },
  {
   "cell_type": "markdown",
   "metadata": {},
   "source": [
    "*Step 6: Averaging the rows and saving one file with only the means of the rows*"
   ]
  },
  {
   "cell_type": "code",
   "execution_count": 14,
   "metadata": {},
   "outputs": [
    {
     "data": {
      "text/html": [
       "<div>\n",
       "<style scoped>\n",
       "    .dataframe tbody tr th:only-of-type {\n",
       "        vertical-align: middle;\n",
       "    }\n",
       "\n",
       "    .dataframe tbody tr th {\n",
       "        vertical-align: top;\n",
       "    }\n",
       "\n",
       "    .dataframe thead th {\n",
       "        text-align: right;\n",
       "    }\n",
       "</style>\n",
       "<table border=\"1\" class=\"dataframe\">\n",
       "  <thead>\n",
       "    <tr style=\"text-align: right;\">\n",
       "      <th></th>\n",
       "      <th>mean</th>\n",
       "    </tr>\n",
       "  </thead>\n",
       "  <tbody>\n",
       "    <tr>\n",
       "      <th>0</th>\n",
       "      <td>-1.571214</td>\n",
       "    </tr>\n",
       "    <tr>\n",
       "      <th>1</th>\n",
       "      <td>-1.217307</td>\n",
       "    </tr>\n",
       "    <tr>\n",
       "      <th>2</th>\n",
       "      <td>-1.017779</td>\n",
       "    </tr>\n",
       "    <tr>\n",
       "      <th>3</th>\n",
       "      <td>-0.881853</td>\n",
       "    </tr>\n",
       "    <tr>\n",
       "      <th>4</th>\n",
       "      <td>-0.780084</td>\n",
       "    </tr>\n",
       "  </tbody>\n",
       "</table>\n",
       "</div>"
      ],
      "text/plain": [
       "       mean\n",
       "0 -1.571214\n",
       "1 -1.217307\n",
       "2 -1.017779\n",
       "3 -0.881853\n",
       "4 -0.780084"
      ]
     },
     "execution_count": 14,
     "metadata": {},
     "output_type": "execute_result"
    }
   ],
   "source": [
    "df2 = pd.DataFrame()\n",
    "for names in averagefiles:\n",
    "    df = pd.read_csv(names)\n",
    "    df2 = pd.concat([df2, df], axis=1)\n",
    "df2['mean'] = df.mean(axis=1)\n",
    "df2 = df2[['mean']]\n",
    "df2.to_csv(new_csv_name, mode='w', columns =['mean'], index = False)\n",
    "df2.head()"
   ]
  },
  {
   "cell_type": "markdown",
   "metadata": {},
   "source": [
    "*Intermediate Steps*"
   ]
  },
  {
   "cell_type": "code",
   "execution_count": null,
   "metadata": {},
   "outputs": [],
   "source": [
    "df = pd.read_csv('exp_geomean_P28_mGluR5_HET_b1_s1_v1.csv')\n",
    "df.head()"
   ]
  },
  {
   "cell_type": "markdown",
   "metadata": {},
   "source": [
    "*Step 5: code just for switching from log to exp*"
   ]
  },
  {
   "cell_type": "code",
   "execution_count": null,
   "metadata": {},
   "outputs": [],
   "source": [
    "for rows in range(len(df)):\n",
    "    row = str(rows)\n",
    "    log_value = df['log'].iloc[rows]\n",
    "    exp_value = math.exp(log_value)\n",
    "    df.loc[row,'exp'] = exp_value"
   ]
  },
  {
   "cell_type": "code",
   "execution_count": null,
   "metadata": {},
   "outputs": [],
   "source": []
  }
 ],
 "metadata": {
  "kernelspec": {
   "display_name": "Python 3",
   "language": "python",
   "name": "python3"
  },
  "language_info": {
   "codemirror_mode": {
    "name": "ipython",
    "version": 3
   },
   "file_extension": ".py",
   "mimetype": "text/x-python",
   "name": "python",
   "nbconvert_exporter": "python",
   "pygments_lexer": "ipython3",
   "version": "3.7.1"
  }
 },
 "nbformat": 4,
 "nbformat_minor": 2
}
